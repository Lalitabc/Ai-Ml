{
 "cells": [
  {
   "cell_type": "markdown",
   "id": "f5a02e04-e023-4673-af1f-8a12b375a76d",
   "metadata": {},
   "source": [
    "## Indexing"
   ]
  },
  {
   "cell_type": "code",
   "execution_count": 1,
   "id": "b481d481-36d4-4ab5-9f44-fdd9d0b1c101",
   "metadata": {},
   "outputs": [],
   "source": [
    "import numpy as np"
   ]
  },
  {
   "cell_type": "code",
   "execution_count": 2,
   "id": "25cc6cf2-fc9f-4136-b9e7-4802b43262fa",
   "metadata": {},
   "outputs": [
    {
     "name": "stdout",
     "output_type": "stream",
     "text": [
      "<class 'list'>\n",
      "<class 'numpy.ndarray'>\n",
      "1\n"
     ]
    }
   ],
   "source": [
    "list =[9,8,7,6];\n",
    "var = np.array(list)\n",
    "\n",
    "print(type(list))\n",
    "print(type(var))\n",
    "print(var.ndim)\n"
   ]
  },
  {
   "cell_type": "code",
   "execution_count": 6,
   "id": "39455d28-bcee-45d7-a225-50350e01ce70",
   "metadata": {},
   "outputs": [
    {
     "name": "stdout",
     "output_type": "stream",
     "text": [
      "[[9 8 7]\n",
      " [4 5 6]]\n",
      "2\n",
      "\n",
      "7\n"
     ]
    }
   ],
   "source": [
    "var1 = np.array([[9,8,7], [4,5,6]])\n",
    "print(var1)\n",
    "print(var1.ndim)\n",
    "print()\n",
    "print(var1[0,2])"
   ]
  },
  {
   "cell_type": "code",
   "execution_count": 11,
   "id": "c2805340-5f91-4032-8ae3-303daf0cf933",
   "metadata": {},
   "outputs": [
    {
     "name": "stdout",
     "output_type": "stream",
     "text": [
      "[[[1 2 3]\n",
      "  [4 5 6]]]\n",
      "3\n"
     ]
    }
   ],
   "source": [
    " \n",
    "var3d = np.array([[[1,2,3],[4,5,6]]])\n",
    "print(var3d)\n",
    "print(var3d.ndim)\n"
   ]
  },
  {
   "cell_type": "markdown",
   "id": "196b6b49-3ebd-4887-b911-15b1e49b1548",
   "metadata": {},
   "source": [
    "## Slicing Numpy Array ([start:end:step])"
   ]
  },
  {
   "cell_type": "code",
   "execution_count": 12,
   "id": "b08cb2db-b722-49a6-896b-1645f18fcca8",
   "metadata": {},
   "outputs": [
    {
     "name": "stdout",
     "output_type": "stream",
     "text": [
      "[1 2 3 4 5]\n"
     ]
    }
   ],
   "source": [
    "var = np.array([1,2,3,4,5])\n",
    "print(var)"
   ]
  },
  {
   "cell_type": "code",
   "execution_count": 14,
   "id": "453b6917-4594-4d9b-8a76-6a40a89b1303",
   "metadata": {},
   "outputs": [
    {
     "name": "stdout",
     "output_type": "stream",
     "text": [
      "2 to 5=  [2 3 4]\n"
     ]
    }
   ],
   "source": [
    "print('2 to 5= ', var[1:4])"
   ]
  },
  {
   "cell_type": "code",
   "execution_count": 20,
   "id": "ebfa01b5-e472-444c-93e1-87dd15332eb4",
   "metadata": {},
   "outputs": [
    {
     "name": "stdout",
     "output_type": "stream",
     "text": [
      "[1 3]\n"
     ]
    }
   ],
   "source": [
    "print(var[0:4:2])"
   ]
  },
  {
   "cell_type": "code",
   "execution_count": 21,
   "id": "f702037b-7579-4199-82e1-edb72c14dec3",
   "metadata": {},
   "outputs": [
    {
     "name": "stdout",
     "output_type": "stream",
     "text": [
      "[3 4 5]\n"
     ]
    }
   ],
   "source": [
    "print(var[2:])"
   ]
  },
  {
   "cell_type": "code",
   "execution_count": 22,
   "id": "d2dbae8e-62c7-4fd3-98fb-faf09cfdd9fa",
   "metadata": {},
   "outputs": [
    {
     "name": "stdout",
     "output_type": "stream",
     "text": [
      "[1 2 3 4]\n"
     ]
    }
   ],
   "source": [
    "print(var[:4])"
   ]
  },
  {
   "cell_type": "code",
   "execution_count": 23,
   "id": "8431b83d-6927-449b-aeaa-654e9aedbdf3",
   "metadata": {},
   "outputs": [
    {
     "name": "stdout",
     "output_type": "stream",
     "text": [
      "[1 2 3 4 5]\n"
     ]
    }
   ],
   "source": [
    "print(var[::])"
   ]
  },
  {
   "cell_type": "code",
   "execution_count": 24,
   "id": "613d7bc1-d09a-42bb-8d3c-7522a3e1b570",
   "metadata": {},
   "outputs": [
    {
     "name": "stdout",
     "output_type": "stream",
     "text": [
      "[1 3 5]\n"
     ]
    }
   ],
   "source": [
    "print(var[::2])"
   ]
  },
  {
   "cell_type": "markdown",
   "id": "4779674d-b9d8-4948-8e40-447b4e10dd35",
   "metadata": {},
   "source": [
    "## Iteration on numpy"
   ]
  },
  {
   "cell_type": "code",
   "execution_count": 25,
   "id": "ce465bad-a6f1-4554-a5ae-3714e43bc5de",
   "metadata": {},
   "outputs": [
    {
     "name": "stdout",
     "output_type": "stream",
     "text": [
      "1\n",
      "2\n",
      "3\n",
      "4\n",
      "5\n"
     ]
    }
   ],
   "source": [
    "for i in var:\n",
    "    print(i)"
   ]
  },
  {
   "cell_type": "code",
   "execution_count": null,
   "id": "25f0cfe7-c3ea-4eaf-8bd5-1679f1aadfa5",
   "metadata": {},
   "outputs": [],
   "source": []
  }
 ],
 "metadata": {
  "kernelspec": {
   "display_name": "Python 3 (ipykernel)",
   "language": "python",
   "name": "python3"
  },
  "language_info": {
   "codemirror_mode": {
    "name": "ipython",
    "version": 3
   },
   "file_extension": ".py",
   "mimetype": "text/x-python",
   "name": "python",
   "nbconvert_exporter": "python",
   "pygments_lexer": "ipython3",
   "version": "3.12.2"
  }
 },
 "nbformat": 4,
 "nbformat_minor": 5
}
